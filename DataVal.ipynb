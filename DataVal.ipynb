{
 "cells": [
  {
   "cell_type": "code",
   "execution_count": 3,
   "metadata": {},
   "outputs": [
    {
     "name": "stdout",
     "output_type": "stream",
     "text": [
      "Exit {'_MAPPING_': '', 'Browse': '', '_XLSX_': True, '_CSV_': False, '_SOURCE_': '', 'Browse0': '', '_DESTINATION_': '', 'Browse1': '', 'in': ''}\n",
      "  \n",
      "True False\n"
     ]
    }
   ],
   "source": [
    "import PySimpleGUI as sg      \n",
    "\n",
    "tab1_layout =  [[sg.Text('Select files to import')],    \n",
    "                 [sg.Text('Mapping', size=(8, 1)), sg.Input(key='_MAPPING_'), sg.FileBrowse(),sg.Radio('.xlxs', 'loss', default=True, key='_XLSX_', size=(12, 1)), sg.Radio('.csv', 'loss', key='_CSV_', size=(12, 1))],      \n",
    "                 [sg.Text('Source', size=(8, 1)), sg.Input(key='_SOURCE_'), sg.FileBrowse()],\n",
    "                 [sg.Text('Destination', size=(8, 1)), sg.Input(key='_DESTINATION_'), sg.FileBrowse()],\n",
    "                 [sg.Submit(), sg.Cancel()]]    \n",
    "tab2_layout = [[sg.T('This is inside tab 2')],    \n",
    "               [sg.In(key='in')]]  \n",
    "\n",
    "layout = [[sg.TabGroup([[sg.Tab('Tab 1', tab1_layout, tooltip='tip'), sg.Tab('Tab 2', tab2_layout)]], tooltip='TIP2')],    \n",
    "          [sg.Button('Exit')]]\n",
    "\n",
    "#layout = [[sg.Text('Select files to import')],    \n",
    "                 #[sg.Text('Mapping', size=(8, 1)), sg.Input(key='_MAPPING_'), sg.FileBrowse(),sg.Radio('.xlxs', 'loss', default=True, key='_XLSX_', size=(12, 1)), sg.Radio('.csv', 'loss', key='_CSV_', size=(12, 1))],      \n",
    "                 #[sg.Text('Source', size=(8, 1)), sg.Input(key='_SOURCE_'), sg.FileBrowse()],\n",
    "                 #[sg.Text('Destination', size=(8, 1)), sg.Input(key='_DESTINATION_'), sg.FileBrowse()],\n",
    "                 #[sg.Submit(), sg.Cancel()]]      \n",
    "\n",
    "window = sg.Window('Field Mapping Validation', layout)  \n",
    "\n",
    "while True:    \n",
    "    event, values = window.Read()    \n",
    "    print(event,values) \n",
    "\n",
    "    if event in (None, 'Cancel', 'Exit'):           # always,  always give a way out!    \n",
    "        break \n",
    "        sg.Popup(event, values)\n",
    "window.Close()\n",
    "mapping_filename, source_filename, destination_filename = values['_MAPPING_'], values['_SOURCE_'], values['_DESTINATION_'] \n",
    "filetype_xlsx, filetype_csv = values['_XLSX_'], values['_CSV_']\n",
    "print(mapping_filename, source_filename, destination_filename )\n",
    "print(filetype_xlsx, filetype_csv)"
   ]
  },
  {
   "cell_type": "code",
   "execution_count": null,
   "metadata": {},
   "outputs": [],
   "source": []
  },
  {
   "cell_type": "code",
   "execution_count": null,
   "metadata": {},
   "outputs": [],
   "source": []
  }
 ],
 "metadata": {
  "kernelspec": {
   "display_name": "Python 3",
   "language": "python",
   "name": "python3"
  },
  "language_info": {
   "codemirror_mode": {
    "name": "ipython",
    "version": 3
   },
   "file_extension": ".py",
   "mimetype": "text/x-python",
   "name": "python",
   "nbconvert_exporter": "python",
   "pygments_lexer": "ipython3",
   "version": "3.7.3"
  }
 },
 "nbformat": 4,
 "nbformat_minor": 2
}
